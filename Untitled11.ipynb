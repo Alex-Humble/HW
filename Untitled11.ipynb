{
 "cells": [
  {
   "cell_type": "code",
   "execution_count": 1,
   "metadata": {},
   "outputs": [],
   "source": [
    "import pandas as pd\n",
    "import numpy as np\n",
    "import scipy as sp\n",
    "from collections import OrderedDict\n",
    "import matplotlib.pyplot as plt\n",
    "import seaborn as sns\n",
    "%matplotlib inline\n",
    "from scipy.stats import norm\n",
    "from sklearn.cluster import KMeans\n",
    "from sklearn.metrics import f1_score\n",
    "from sklearn.linear_model import SGDRegressor, ElasticNetCV\n",
    "from sklearn.metrics import mean_squared_error\n",
    "from sklearn.preprocessing import StandardScaler, MinMaxScaler\n",
    "import warnings\n",
    "warnings.filterwarnings('ignore')"
   ]
  },
  {
   "cell_type": "code",
   "execution_count": 2,
   "metadata": {
    "collapsed": true
   },
   "outputs": [],
   "source": [
    "train = pd.read_csv(\"/Users/alexhumble/Desktop/Train.csv\",\n",
    "                   low_memory =False)\n",
    "test = pd.read_csv(\"/Users/alexhumble/Desktop/Test.csv\",\n",
    "                  low_memory =False)"
   ]
  },
  {
   "cell_type": "code",
   "execution_count": 3,
   "metadata": {},
   "outputs": [
    {
     "data": {
      "text/html": [
       "<div>\n",
       "<style scoped>\n",
       "    .dataframe tbody tr th:only-of-type {\n",
       "        vertical-align: middle;\n",
       "    }\n",
       "\n",
       "    .dataframe tbody tr th {\n",
       "        vertical-align: top;\n",
       "    }\n",
       "\n",
       "    .dataframe thead th {\n",
       "        text-align: right;\n",
       "    }\n",
       "</style>\n",
       "<table border=\"1\" class=\"dataframe\">\n",
       "  <thead>\n",
       "    <tr style=\"text-align: right;\">\n",
       "      <th></th>\n",
       "      <th>v2a1</th>\n",
       "      <th>hacdor</th>\n",
       "      <th>rooms</th>\n",
       "      <th>hacapo</th>\n",
       "      <th>v14a</th>\n",
       "      <th>refrig</th>\n",
       "      <th>v18q</th>\n",
       "      <th>v18q1</th>\n",
       "      <th>r4h1</th>\n",
       "      <th>r4h2</th>\n",
       "      <th>...</th>\n",
       "      <th>SQBescolari</th>\n",
       "      <th>SQBage</th>\n",
       "      <th>SQBhogar_total</th>\n",
       "      <th>SQBedjefe</th>\n",
       "      <th>SQBhogar_nin</th>\n",
       "      <th>SQBovercrowding</th>\n",
       "      <th>SQBdependency</th>\n",
       "      <th>SQBmeaned</th>\n",
       "      <th>agesq</th>\n",
       "      <th>Target</th>\n",
       "    </tr>\n",
       "  </thead>\n",
       "  <tbody>\n",
       "    <tr>\n",
       "      <th>count</th>\n",
       "      <td>2.697000e+03</td>\n",
       "      <td>9557.000000</td>\n",
       "      <td>9557.000000</td>\n",
       "      <td>9557.000000</td>\n",
       "      <td>9557.000000</td>\n",
       "      <td>9557.000000</td>\n",
       "      <td>9557.000000</td>\n",
       "      <td>2215.000000</td>\n",
       "      <td>9557.000000</td>\n",
       "      <td>9557.000000</td>\n",
       "      <td>...</td>\n",
       "      <td>9557.000000</td>\n",
       "      <td>9557.000000</td>\n",
       "      <td>9557.000000</td>\n",
       "      <td>9557.000000</td>\n",
       "      <td>9557.000000</td>\n",
       "      <td>9557.000000</td>\n",
       "      <td>9557.000000</td>\n",
       "      <td>9552.000000</td>\n",
       "      <td>9557.000000</td>\n",
       "      <td>9557.000000</td>\n",
       "    </tr>\n",
       "    <tr>\n",
       "      <th>mean</th>\n",
       "      <td>1.652316e+05</td>\n",
       "      <td>0.038087</td>\n",
       "      <td>4.955530</td>\n",
       "      <td>0.023648</td>\n",
       "      <td>0.994768</td>\n",
       "      <td>0.957623</td>\n",
       "      <td>0.231767</td>\n",
       "      <td>1.404063</td>\n",
       "      <td>0.385895</td>\n",
       "      <td>1.559171</td>\n",
       "      <td>...</td>\n",
       "      <td>74.222769</td>\n",
       "      <td>1643.774302</td>\n",
       "      <td>19.132887</td>\n",
       "      <td>53.500262</td>\n",
       "      <td>3.844826</td>\n",
       "      <td>3.249485</td>\n",
       "      <td>3.900409</td>\n",
       "      <td>102.588867</td>\n",
       "      <td>1643.774302</td>\n",
       "      <td>3.302292</td>\n",
       "    </tr>\n",
       "    <tr>\n",
       "      <th>std</th>\n",
       "      <td>1.504571e+05</td>\n",
       "      <td>0.191417</td>\n",
       "      <td>1.468381</td>\n",
       "      <td>0.151957</td>\n",
       "      <td>0.072145</td>\n",
       "      <td>0.201459</td>\n",
       "      <td>0.421983</td>\n",
       "      <td>0.763131</td>\n",
       "      <td>0.680779</td>\n",
       "      <td>1.036574</td>\n",
       "      <td>...</td>\n",
       "      <td>76.777549</td>\n",
       "      <td>1741.197050</td>\n",
       "      <td>18.751395</td>\n",
       "      <td>78.445804</td>\n",
       "      <td>6.946296</td>\n",
       "      <td>4.129547</td>\n",
       "      <td>12.511831</td>\n",
       "      <td>93.516890</td>\n",
       "      <td>1741.197050</td>\n",
       "      <td>1.009565</td>\n",
       "    </tr>\n",
       "    <tr>\n",
       "      <th>min</th>\n",
       "      <td>0.000000e+00</td>\n",
       "      <td>0.000000</td>\n",
       "      <td>1.000000</td>\n",
       "      <td>0.000000</td>\n",
       "      <td>0.000000</td>\n",
       "      <td>0.000000</td>\n",
       "      <td>0.000000</td>\n",
       "      <td>1.000000</td>\n",
       "      <td>0.000000</td>\n",
       "      <td>0.000000</td>\n",
       "      <td>...</td>\n",
       "      <td>0.000000</td>\n",
       "      <td>0.000000</td>\n",
       "      <td>1.000000</td>\n",
       "      <td>0.000000</td>\n",
       "      <td>0.000000</td>\n",
       "      <td>0.040000</td>\n",
       "      <td>0.000000</td>\n",
       "      <td>0.000000</td>\n",
       "      <td>0.000000</td>\n",
       "      <td>1.000000</td>\n",
       "    </tr>\n",
       "    <tr>\n",
       "      <th>25%</th>\n",
       "      <td>8.000000e+04</td>\n",
       "      <td>0.000000</td>\n",
       "      <td>4.000000</td>\n",
       "      <td>0.000000</td>\n",
       "      <td>1.000000</td>\n",
       "      <td>1.000000</td>\n",
       "      <td>0.000000</td>\n",
       "      <td>1.000000</td>\n",
       "      <td>0.000000</td>\n",
       "      <td>1.000000</td>\n",
       "      <td>...</td>\n",
       "      <td>16.000000</td>\n",
       "      <td>289.000000</td>\n",
       "      <td>9.000000</td>\n",
       "      <td>0.000000</td>\n",
       "      <td>0.000000</td>\n",
       "      <td>1.000000</td>\n",
       "      <td>0.111111</td>\n",
       "      <td>36.000000</td>\n",
       "      <td>289.000000</td>\n",
       "      <td>3.000000</td>\n",
       "    </tr>\n",
       "    <tr>\n",
       "      <th>50%</th>\n",
       "      <td>1.300000e+05</td>\n",
       "      <td>0.000000</td>\n",
       "      <td>5.000000</td>\n",
       "      <td>0.000000</td>\n",
       "      <td>1.000000</td>\n",
       "      <td>1.000000</td>\n",
       "      <td>0.000000</td>\n",
       "      <td>1.000000</td>\n",
       "      <td>0.000000</td>\n",
       "      <td>1.000000</td>\n",
       "      <td>...</td>\n",
       "      <td>36.000000</td>\n",
       "      <td>961.000000</td>\n",
       "      <td>16.000000</td>\n",
       "      <td>36.000000</td>\n",
       "      <td>1.000000</td>\n",
       "      <td>2.250000</td>\n",
       "      <td>0.444444</td>\n",
       "      <td>81.000000</td>\n",
       "      <td>961.000000</td>\n",
       "      <td>4.000000</td>\n",
       "    </tr>\n",
       "    <tr>\n",
       "      <th>75%</th>\n",
       "      <td>2.000000e+05</td>\n",
       "      <td>0.000000</td>\n",
       "      <td>6.000000</td>\n",
       "      <td>0.000000</td>\n",
       "      <td>1.000000</td>\n",
       "      <td>1.000000</td>\n",
       "      <td>0.000000</td>\n",
       "      <td>2.000000</td>\n",
       "      <td>1.000000</td>\n",
       "      <td>2.000000</td>\n",
       "      <td>...</td>\n",
       "      <td>121.000000</td>\n",
       "      <td>2601.000000</td>\n",
       "      <td>25.000000</td>\n",
       "      <td>81.000000</td>\n",
       "      <td>4.000000</td>\n",
       "      <td>4.000000</td>\n",
       "      <td>1.777778</td>\n",
       "      <td>134.560010</td>\n",
       "      <td>2601.000000</td>\n",
       "      <td>4.000000</td>\n",
       "    </tr>\n",
       "    <tr>\n",
       "      <th>max</th>\n",
       "      <td>2.353477e+06</td>\n",
       "      <td>1.000000</td>\n",
       "      <td>11.000000</td>\n",
       "      <td>1.000000</td>\n",
       "      <td>1.000000</td>\n",
       "      <td>1.000000</td>\n",
       "      <td>1.000000</td>\n",
       "      <td>6.000000</td>\n",
       "      <td>5.000000</td>\n",
       "      <td>8.000000</td>\n",
       "      <td>...</td>\n",
       "      <td>441.000000</td>\n",
       "      <td>9409.000000</td>\n",
       "      <td>169.000000</td>\n",
       "      <td>441.000000</td>\n",
       "      <td>81.000000</td>\n",
       "      <td>36.000000</td>\n",
       "      <td>64.000000</td>\n",
       "      <td>1369.000000</td>\n",
       "      <td>9409.000000</td>\n",
       "      <td>4.000000</td>\n",
       "    </tr>\n",
       "  </tbody>\n",
       "</table>\n",
       "<p>8 rows × 138 columns</p>\n",
       "</div>"
      ],
      "text/plain": [
       "               v2a1       hacdor        rooms       hacapo         v14a  \\\n",
       "count  2.697000e+03  9557.000000  9557.000000  9557.000000  9557.000000   \n",
       "mean   1.652316e+05     0.038087     4.955530     0.023648     0.994768   \n",
       "std    1.504571e+05     0.191417     1.468381     0.151957     0.072145   \n",
       "min    0.000000e+00     0.000000     1.000000     0.000000     0.000000   \n",
       "25%    8.000000e+04     0.000000     4.000000     0.000000     1.000000   \n",
       "50%    1.300000e+05     0.000000     5.000000     0.000000     1.000000   \n",
       "75%    2.000000e+05     0.000000     6.000000     0.000000     1.000000   \n",
       "max    2.353477e+06     1.000000    11.000000     1.000000     1.000000   \n",
       "\n",
       "            refrig         v18q        v18q1         r4h1         r4h2  ...  \\\n",
       "count  9557.000000  9557.000000  2215.000000  9557.000000  9557.000000  ...   \n",
       "mean      0.957623     0.231767     1.404063     0.385895     1.559171  ...   \n",
       "std       0.201459     0.421983     0.763131     0.680779     1.036574  ...   \n",
       "min       0.000000     0.000000     1.000000     0.000000     0.000000  ...   \n",
       "25%       1.000000     0.000000     1.000000     0.000000     1.000000  ...   \n",
       "50%       1.000000     0.000000     1.000000     0.000000     1.000000  ...   \n",
       "75%       1.000000     0.000000     2.000000     1.000000     2.000000  ...   \n",
       "max       1.000000     1.000000     6.000000     5.000000     8.000000  ...   \n",
       "\n",
       "       SQBescolari       SQBage  SQBhogar_total    SQBedjefe  SQBhogar_nin  \\\n",
       "count  9557.000000  9557.000000     9557.000000  9557.000000   9557.000000   \n",
       "mean     74.222769  1643.774302       19.132887    53.500262      3.844826   \n",
       "std      76.777549  1741.197050       18.751395    78.445804      6.946296   \n",
       "min       0.000000     0.000000        1.000000     0.000000      0.000000   \n",
       "25%      16.000000   289.000000        9.000000     0.000000      0.000000   \n",
       "50%      36.000000   961.000000       16.000000    36.000000      1.000000   \n",
       "75%     121.000000  2601.000000       25.000000    81.000000      4.000000   \n",
       "max     441.000000  9409.000000      169.000000   441.000000     81.000000   \n",
       "\n",
       "       SQBovercrowding  SQBdependency    SQBmeaned        agesq       Target  \n",
       "count      9557.000000    9557.000000  9552.000000  9557.000000  9557.000000  \n",
       "mean          3.249485       3.900409   102.588867  1643.774302     3.302292  \n",
       "std           4.129547      12.511831    93.516890  1741.197050     1.009565  \n",
       "min           0.040000       0.000000     0.000000     0.000000     1.000000  \n",
       "25%           1.000000       0.111111    36.000000   289.000000     3.000000  \n",
       "50%           2.250000       0.444444    81.000000   961.000000     4.000000  \n",
       "75%           4.000000       1.777778   134.560010  2601.000000     4.000000  \n",
       "max          36.000000      64.000000  1369.000000  9409.000000     4.000000  \n",
       "\n",
       "[8 rows x 138 columns]"
      ]
     },
     "execution_count": 3,
     "metadata": {},
     "output_type": "execute_result"
    }
   ],
   "source": [
    "train.describe()"
   ]
  },
  {
   "cell_type": "code",
   "execution_count": 4,
   "metadata": {},
   "outputs": [
    {
     "data": {
      "text/html": [
       "<div>\n",
       "<style scoped>\n",
       "    .dataframe tbody tr th:only-of-type {\n",
       "        vertical-align: middle;\n",
       "    }\n",
       "\n",
       "    .dataframe tbody tr th {\n",
       "        vertical-align: top;\n",
       "    }\n",
       "\n",
       "    .dataframe thead th {\n",
       "        text-align: right;\n",
       "    }\n",
       "</style>\n",
       "<table border=\"1\" class=\"dataframe\">\n",
       "  <thead>\n",
       "    <tr style=\"text-align: right;\">\n",
       "      <th></th>\n",
       "      <th>v2a1</th>\n",
       "      <th>hacdor</th>\n",
       "      <th>rooms</th>\n",
       "      <th>hacapo</th>\n",
       "      <th>v14a</th>\n",
       "      <th>refrig</th>\n",
       "      <th>v18q</th>\n",
       "      <th>v18q1</th>\n",
       "      <th>r4h1</th>\n",
       "      <th>r4h2</th>\n",
       "      <th>...</th>\n",
       "      <th>age</th>\n",
       "      <th>SQBescolari</th>\n",
       "      <th>SQBage</th>\n",
       "      <th>SQBhogar_total</th>\n",
       "      <th>SQBedjefe</th>\n",
       "      <th>SQBhogar_nin</th>\n",
       "      <th>SQBovercrowding</th>\n",
       "      <th>SQBdependency</th>\n",
       "      <th>SQBmeaned</th>\n",
       "      <th>agesq</th>\n",
       "    </tr>\n",
       "  </thead>\n",
       "  <tbody>\n",
       "    <tr>\n",
       "      <th>count</th>\n",
       "      <td>6.453000e+03</td>\n",
       "      <td>23856.000000</td>\n",
       "      <td>23856.000000</td>\n",
       "      <td>23856.000000</td>\n",
       "      <td>23856.000000</td>\n",
       "      <td>23856.000000</td>\n",
       "      <td>23856.000000</td>\n",
       "      <td>5730.000000</td>\n",
       "      <td>23856.000000</td>\n",
       "      <td>23856.000000</td>\n",
       "      <td>...</td>\n",
       "      <td>23856.000000</td>\n",
       "      <td>23856.00000</td>\n",
       "      <td>23856.000000</td>\n",
       "      <td>23856.000000</td>\n",
       "      <td>23856.000000</td>\n",
       "      <td>23856.000000</td>\n",
       "      <td>23856.000000</td>\n",
       "      <td>23856.000000</td>\n",
       "      <td>23825.000000</td>\n",
       "      <td>23856.000000</td>\n",
       "    </tr>\n",
       "    <tr>\n",
       "      <th>mean</th>\n",
       "      <td>1.748726e+05</td>\n",
       "      <td>0.050679</td>\n",
       "      <td>4.955776</td>\n",
       "      <td>0.028421</td>\n",
       "      <td>0.992748</td>\n",
       "      <td>0.961603</td>\n",
       "      <td>0.240191</td>\n",
       "      <td>1.348517</td>\n",
       "      <td>0.416541</td>\n",
       "      <td>1.563967</td>\n",
       "      <td>...</td>\n",
       "      <td>34.454183</td>\n",
       "      <td>74.44974</td>\n",
       "      <td>1657.798080</td>\n",
       "      <td>19.113389</td>\n",
       "      <td>54.087232</td>\n",
       "      <td>3.885480</td>\n",
       "      <td>3.564751</td>\n",
       "      <td>4.171669</td>\n",
       "      <td>100.509220</td>\n",
       "      <td>1657.798080</td>\n",
       "    </tr>\n",
       "    <tr>\n",
       "      <th>std</th>\n",
       "      <td>1.567887e+05</td>\n",
       "      <td>0.219346</td>\n",
       "      <td>1.539753</td>\n",
       "      <td>0.166174</td>\n",
       "      <td>0.084850</td>\n",
       "      <td>0.192157</td>\n",
       "      <td>0.427208</td>\n",
       "      <td>0.694216</td>\n",
       "      <td>0.713255</td>\n",
       "      <td>0.990171</td>\n",
       "      <td>...</td>\n",
       "      <td>21.696245</td>\n",
       "      <td>76.99701</td>\n",
       "      <td>1753.603406</td>\n",
       "      <td>17.314597</td>\n",
       "      <td>77.312255</td>\n",
       "      <td>6.878967</td>\n",
       "      <td>6.668757</td>\n",
       "      <td>13.105989</td>\n",
       "      <td>89.211063</td>\n",
       "      <td>1753.603406</td>\n",
       "    </tr>\n",
       "    <tr>\n",
       "      <th>min</th>\n",
       "      <td>0.000000e+00</td>\n",
       "      <td>0.000000</td>\n",
       "      <td>1.000000</td>\n",
       "      <td>0.000000</td>\n",
       "      <td>0.000000</td>\n",
       "      <td>0.000000</td>\n",
       "      <td>0.000000</td>\n",
       "      <td>1.000000</td>\n",
       "      <td>0.000000</td>\n",
       "      <td>0.000000</td>\n",
       "      <td>...</td>\n",
       "      <td>0.000000</td>\n",
       "      <td>0.00000</td>\n",
       "      <td>0.000000</td>\n",
       "      <td>1.000000</td>\n",
       "      <td>0.000000</td>\n",
       "      <td>0.000000</td>\n",
       "      <td>0.020408</td>\n",
       "      <td>0.000000</td>\n",
       "      <td>0.000000</td>\n",
       "      <td>0.000000</td>\n",
       "    </tr>\n",
       "    <tr>\n",
       "      <th>25%</th>\n",
       "      <td>8.000000e+04</td>\n",
       "      <td>0.000000</td>\n",
       "      <td>4.000000</td>\n",
       "      <td>0.000000</td>\n",
       "      <td>1.000000</td>\n",
       "      <td>1.000000</td>\n",
       "      <td>0.000000</td>\n",
       "      <td>1.000000</td>\n",
       "      <td>0.000000</td>\n",
       "      <td>1.000000</td>\n",
       "      <td>...</td>\n",
       "      <td>16.000000</td>\n",
       "      <td>16.00000</td>\n",
       "      <td>256.000000</td>\n",
       "      <td>9.000000</td>\n",
       "      <td>0.000000</td>\n",
       "      <td>0.000000</td>\n",
       "      <td>1.000000</td>\n",
       "      <td>0.111111</td>\n",
       "      <td>36.000000</td>\n",
       "      <td>256.000000</td>\n",
       "    </tr>\n",
       "    <tr>\n",
       "      <th>50%</th>\n",
       "      <td>1.400000e+05</td>\n",
       "      <td>0.000000</td>\n",
       "      <td>5.000000</td>\n",
       "      <td>0.000000</td>\n",
       "      <td>1.000000</td>\n",
       "      <td>1.000000</td>\n",
       "      <td>0.000000</td>\n",
       "      <td>1.000000</td>\n",
       "      <td>0.000000</td>\n",
       "      <td>1.000000</td>\n",
       "      <td>...</td>\n",
       "      <td>32.000000</td>\n",
       "      <td>36.00000</td>\n",
       "      <td>1024.000000</td>\n",
       "      <td>16.000000</td>\n",
       "      <td>36.000000</td>\n",
       "      <td>1.000000</td>\n",
       "      <td>2.250000</td>\n",
       "      <td>0.444444</td>\n",
       "      <td>75.111115</td>\n",
       "      <td>1024.000000</td>\n",
       "    </tr>\n",
       "    <tr>\n",
       "      <th>75%</th>\n",
       "      <td>2.200000e+05</td>\n",
       "      <td>0.000000</td>\n",
       "      <td>6.000000</td>\n",
       "      <td>0.000000</td>\n",
       "      <td>1.000000</td>\n",
       "      <td>1.000000</td>\n",
       "      <td>0.000000</td>\n",
       "      <td>1.750000</td>\n",
       "      <td>1.000000</td>\n",
       "      <td>2.000000</td>\n",
       "      <td>...</td>\n",
       "      <td>51.000000</td>\n",
       "      <td>121.00000</td>\n",
       "      <td>2601.000000</td>\n",
       "      <td>25.000000</td>\n",
       "      <td>81.000000</td>\n",
       "      <td>4.000000</td>\n",
       "      <td>4.000000</td>\n",
       "      <td>1.777778</td>\n",
       "      <td>132.250000</td>\n",
       "      <td>2601.000000</td>\n",
       "    </tr>\n",
       "    <tr>\n",
       "      <th>max</th>\n",
       "      <td>2.852700e+06</td>\n",
       "      <td>1.000000</td>\n",
       "      <td>15.000000</td>\n",
       "      <td>1.000000</td>\n",
       "      <td>1.000000</td>\n",
       "      <td>1.000000</td>\n",
       "      <td>1.000000</td>\n",
       "      <td>6.000000</td>\n",
       "      <td>6.000000</td>\n",
       "      <td>7.000000</td>\n",
       "      <td>...</td>\n",
       "      <td>97.000000</td>\n",
       "      <td>441.00000</td>\n",
       "      <td>9409.000000</td>\n",
       "      <td>169.000000</td>\n",
       "      <td>441.000000</td>\n",
       "      <td>100.000000</td>\n",
       "      <td>169.000000</td>\n",
       "      <td>64.000000</td>\n",
       "      <td>1296.000000</td>\n",
       "      <td>9409.000000</td>\n",
       "    </tr>\n",
       "  </tbody>\n",
       "</table>\n",
       "<p>8 rows × 137 columns</p>\n",
       "</div>"
      ],
      "text/plain": [
       "               v2a1        hacdor         rooms        hacapo          v14a  \\\n",
       "count  6.453000e+03  23856.000000  23856.000000  23856.000000  23856.000000   \n",
       "mean   1.748726e+05      0.050679      4.955776      0.028421      0.992748   \n",
       "std    1.567887e+05      0.219346      1.539753      0.166174      0.084850   \n",
       "min    0.000000e+00      0.000000      1.000000      0.000000      0.000000   \n",
       "25%    8.000000e+04      0.000000      4.000000      0.000000      1.000000   \n",
       "50%    1.400000e+05      0.000000      5.000000      0.000000      1.000000   \n",
       "75%    2.200000e+05      0.000000      6.000000      0.000000      1.000000   \n",
       "max    2.852700e+06      1.000000     15.000000      1.000000      1.000000   \n",
       "\n",
       "             refrig          v18q        v18q1          r4h1          r4h2  \\\n",
       "count  23856.000000  23856.000000  5730.000000  23856.000000  23856.000000   \n",
       "mean       0.961603      0.240191     1.348517      0.416541      1.563967   \n",
       "std        0.192157      0.427208     0.694216      0.713255      0.990171   \n",
       "min        0.000000      0.000000     1.000000      0.000000      0.000000   \n",
       "25%        1.000000      0.000000     1.000000      0.000000      1.000000   \n",
       "50%        1.000000      0.000000     1.000000      0.000000      1.000000   \n",
       "75%        1.000000      0.000000     1.750000      1.000000      2.000000   \n",
       "max        1.000000      1.000000     6.000000      6.000000      7.000000   \n",
       "\n",
       "       ...           age  SQBescolari        SQBage  SQBhogar_total  \\\n",
       "count  ...  23856.000000  23856.00000  23856.000000    23856.000000   \n",
       "mean   ...     34.454183     74.44974   1657.798080       19.113389   \n",
       "std    ...     21.696245     76.99701   1753.603406       17.314597   \n",
       "min    ...      0.000000      0.00000      0.000000        1.000000   \n",
       "25%    ...     16.000000     16.00000    256.000000        9.000000   \n",
       "50%    ...     32.000000     36.00000   1024.000000       16.000000   \n",
       "75%    ...     51.000000    121.00000   2601.000000       25.000000   \n",
       "max    ...     97.000000    441.00000   9409.000000      169.000000   \n",
       "\n",
       "          SQBedjefe  SQBhogar_nin  SQBovercrowding  SQBdependency  \\\n",
       "count  23856.000000  23856.000000     23856.000000   23856.000000   \n",
       "mean      54.087232      3.885480         3.564751       4.171669   \n",
       "std       77.312255      6.878967         6.668757      13.105989   \n",
       "min        0.000000      0.000000         0.020408       0.000000   \n",
       "25%        0.000000      0.000000         1.000000       0.111111   \n",
       "50%       36.000000      1.000000         2.250000       0.444444   \n",
       "75%       81.000000      4.000000         4.000000       1.777778   \n",
       "max      441.000000    100.000000       169.000000      64.000000   \n",
       "\n",
       "          SQBmeaned         agesq  \n",
       "count  23825.000000  23856.000000  \n",
       "mean     100.509220   1657.798080  \n",
       "std       89.211063   1753.603406  \n",
       "min        0.000000      0.000000  \n",
       "25%       36.000000    256.000000  \n",
       "50%       75.111115   1024.000000  \n",
       "75%      132.250000   2601.000000  \n",
       "max     1296.000000   9409.000000  \n",
       "\n",
       "[8 rows x 137 columns]"
      ]
     },
     "execution_count": 4,
     "metadata": {},
     "output_type": "execute_result"
    }
   ],
   "source": [
    "test.describe()"
   ]
  },
  {
   "cell_type": "code",
   "execution_count": 5,
   "metadata": {},
   "outputs": [],
   "source": [
    "test['Target'] = np.nan\n",
    "costa = train.append(test, ignore_index = True, sort=True)\n",
    "rica = [train, test]\n",
    "cr = train.append(test, ignore_index = True, sort=True)"
   ]
  },
  {
   "cell_type": "code",
   "execution_count": 6,
   "metadata": {},
   "outputs": [
    {
     "name": "stdout",
     "output_type": "stream",
     "text": [
      "(9557, 143)\n",
      "(23856, 143)\n"
     ]
    }
   ],
   "source": [
    "for i in rica:\n",
    "    print(i.shape)"
   ]
  },
  {
   "cell_type": "code",
   "execution_count": 7,
   "metadata": {},
   "outputs": [
    {
     "data": {
      "text/plain": [
       "<bound method NDFrame.describe of 0       4\n",
       "1       4\n",
       "2       4\n",
       "3       4\n",
       "4       4\n",
       "5       4\n",
       "6       4\n",
       "7       4\n",
       "8       4\n",
       "9       4\n",
       "10      4\n",
       "11      4\n",
       "12      4\n",
       "13      4\n",
       "14      4\n",
       "15      4\n",
       "16      4\n",
       "17      4\n",
       "18      4\n",
       "19      4\n",
       "20      4\n",
       "21      4\n",
       "22      4\n",
       "23      4\n",
       "24      4\n",
       "25      4\n",
       "26      4\n",
       "27      4\n",
       "28      4\n",
       "29      4\n",
       "       ..\n",
       "9527    4\n",
       "9528    4\n",
       "9529    4\n",
       "9530    4\n",
       "9531    4\n",
       "9532    4\n",
       "9533    4\n",
       "9534    3\n",
       "9535    1\n",
       "9536    2\n",
       "9537    2\n",
       "9538    2\n",
       "9539    2\n",
       "9540    2\n",
       "9541    2\n",
       "9542    2\n",
       "9543    2\n",
       "9544    2\n",
       "9545    4\n",
       "9546    4\n",
       "9547    4\n",
       "9548    4\n",
       "9549    4\n",
       "9550    2\n",
       "9551    2\n",
       "9552    2\n",
       "9553    2\n",
       "9554    2\n",
       "9555    2\n",
       "9556    2\n",
       "Name: Target, Length: 9557, dtype: int64>"
      ]
     },
     "execution_count": 7,
     "metadata": {},
     "output_type": "execute_result"
    }
   ],
   "source": [
    "train.Target.describe"
   ]
  },
  {
   "cell_type": "code",
   "execution_count": 8,
   "metadata": {},
   "outputs": [
    {
     "data": {
      "image/png": "[encoded data removed]",
      "text/plain": [
       "<Figure size 432x288 with 1 Axes>"
      ]
     },
     "metadata": {},
     "output_type": "display_data"
    }
   ],
   "source": [
    "#Check the balance of the distribution between the different levels of poverty\n",
    "plot = train['Target'].unique()\n",
    "train['Target'].hist(bins=len(plot))\n",
    "plt.xticks(plot)\n",
    "plt.show()"
   ]
  },
  {
   "cell_type": "code",
   "execution_count": 9,
   "metadata": {},
   "outputs": [],
   "source": [
    "nan_train = []\n",
    "for aa in train:\n",
    "    if train[aa].isnull().any() == True:\n",
    "        nan_train.append(aa)"
   ]
  },
  {
   "cell_type": "code",
   "execution_count": 10,
   "metadata": {},
   "outputs": [
    {
     "data": {
      "text/plain": [
       "['v2a1', 'v18q1', 'rez_esc', 'meaneduc', 'SQBmeaned']"
      ]
     },
     "execution_count": 10,
     "metadata": {},
     "output_type": "execute_result"
    }
   ],
   "source": [
    "nan_train"
   ]
  },
  {
   "cell_type": "code",
   "execution_count": 11,
   "metadata": {},
   "outputs": [
    {
     "data": {
      "text/plain": [
       "count    2.697000e+03\n",
       "mean     1.652316e+05\n",
       "std      1.504571e+05\n",
       "min      0.000000e+00\n",
       "25%      8.000000e+04\n",
       "50%      1.300000e+05\n",
       "75%      2.000000e+05\n",
       "max      2.353477e+06\n",
       "Name: v2a1, dtype: float64"
      ]
     },
     "execution_count": 11,
     "metadata": {},
     "output_type": "execute_result"
    }
   ],
   "source": [
    "train.v2a1.describe()"
   ]
  },
  {
   "cell_type": "code",
   "execution_count": 12,
   "metadata": {},
   "outputs": [
    {
     "data": {
      "text/plain": [
       "count    1629.000000\n",
       "mean        0.459791\n",
       "std         0.946550\n",
       "min         0.000000\n",
       "25%         0.000000\n",
       "50%         0.000000\n",
       "75%         1.000000\n",
       "max         5.000000\n",
       "Name: rez_esc, dtype: float64"
      ]
     },
     "execution_count": 12,
     "metadata": {},
     "output_type": "execute_result"
    }
   ],
   "source": [
    "train.rez_esc.describe()"
   ]
  },
  {
   "cell_type": "code",
   "execution_count": 13,
   "metadata": {},
   "outputs": [
    {
     "data": {
      "text/plain": [
       "count    9552.000000\n",
       "mean        9.231523\n",
       "std         4.167694\n",
       "min         0.000000\n",
       "25%         6.000000\n",
       "50%         9.000000\n",
       "75%        11.600000\n",
       "max        37.000000\n",
       "Name: meaneduc, dtype: float64"
      ]
     },
     "execution_count": 13,
     "metadata": {},
     "output_type": "execute_result"
    }
   ],
   "source": [
    "train.meaneduc.describe()"
   ]
  },
  {
   "cell_type": "code",
   "execution_count": 14,
   "metadata": {},
   "outputs": [
    {
     "data": {
      "text/plain": [
       "count    9552.000000\n",
       "mean      102.588867\n",
       "std        93.516890\n",
       "min         0.000000\n",
       "25%        36.000000\n",
       "50%        81.000000\n",
       "75%       134.560010\n",
       "max      1369.000000\n",
       "Name: SQBmeaned, dtype: float64"
      ]
     },
     "execution_count": 14,
     "metadata": {},
     "output_type": "execute_result"
    }
   ],
   "source": [
    "train.SQBmeaned.describe()"
   ]
  },
  {
   "cell_type": "code",
   "execution_count": 15,
   "metadata": {},
   "outputs": [
    {
     "name": "stdout",
     "output_type": "stream",
     "text": [
      "        idhogar  age  escolari\n",
      "1291  1b31fd159   18        10\n",
      "1840  a874b7ce7   18         6\n",
      "1841  a874b7ce7   18         4\n",
      "2049  faaebf71a   19        12\n",
      "2050  faaebf71a   19        12\n",
      "         idhogar  age  escolari\n",
      "4      1e2fc704e   18        11\n",
      "535    bb7038e41   18        11\n",
      "536    4937daf94   19        12\n",
      "537    4937daf94   19        12\n",
      "2612   4deb0c65e   19         8\n",
      "2613   4deb0c65e   17         6\n",
      "6809   74718009d   18        12\n",
      "6810   74718009d   19        12\n",
      "7266   8e4c4b74b   19        12\n",
      "7267   8e4c4b74b   18        10\n",
      "15808  e197a50ea   19         6\n",
      "15809  e197a50ea   18         8\n",
      "15810  e197a50ea    2         0\n",
      "16096  90c21473b    2         0\n",
      "16097  90c21473b   18         7\n",
      "16291  c31f9f3a0   17         9\n",
      "19421  03c21b43f   18        11\n",
      "19985  2e4c82ed0   19        10\n",
      "21136  0b1d5d56e   18         6\n",
      "21137  0b1d5d56e    2         0\n",
      "21644  c49af2e64   17         9\n",
      "21645  c49af2e64    1         0\n",
      "21824  519274b20   15         7\n",
      "21825  519274b20   18         9\n",
      "21826  f4adb7a8c    1         0\n",
      "21827  f4adb7a8c   18         6\n",
      "22125  656185b23    0         0\n",
      "22126  656185b23   18         9\n",
      "22336  074f400ee   18         7\n",
      "22337  074f400ee    1         0\n",
      "22338  074f400ee   18         6\n"
     ]
    }
   ],
   "source": [
    "for a in rica: print(a[['idhogar', 'age', 'escolari']][a['meaneduc'].isna()])"
   ]
  },
  {
   "cell_type": "code",
   "execution_count": 16,
   "metadata": {
    "collapsed": true
   },
   "outputs": [],
   "source": [
    "for a in rica:\n",
    "    di = dict(a[['idhogar', 'escolari']][(a['meaneduc'].isna()) & (a['age'] >= 18)].groupby('idhogar').mean()['escolari'])\n",
    "    no18 = set(a['idhogar'][a['meaneduc'].isna()]) - set([x for x in di])\n",
    "    di.update([[x, 0] for x in no18])\n",
    "    for b in di:\n",
    "        a.loc[(a['idhogar'] == b), 'meaneduc'] = di[b]\n",
    "        a.loc[(a['idhogar'] == b), 'SQBmeaned'] = di[b]**2"
   ]
  },
  {
   "cell_type": "code",
   "execution_count": 17,
   "metadata": {},
   "outputs": [
    {
     "name": "stdout",
     "output_type": "stream",
     "text": [
      "      rez_esc\n",
      "age          \n",
      "0         NaN\n",
      "1         NaN\n",
      "2         NaN\n",
      "3         NaN\n",
      "4         NaN\n",
      "5         NaN\n",
      "6         NaN\n",
      "7    0.000000\n",
      "8    0.036765\n",
      "9    0.071429\n",
      "10   0.167883\n",
      "11   0.195489\n",
      "12   0.302158\n",
      "13   0.266234\n",
      "14   0.288732\n",
      "15   0.686275\n",
      "16   1.116667\n",
      "17   1.457143\n",
      "18        NaN\n",
      "19        NaN\n",
      "20        NaN\n",
      "21        NaN\n",
      "22        NaN\n",
      "23        NaN\n",
      "24        NaN\n",
      "      rez_esc\n",
      "age          \n",
      "0         NaN\n",
      "1         NaN\n",
      "2         NaN\n",
      "3         NaN\n",
      "4         NaN\n",
      "5         NaN\n",
      "6         NaN\n",
      "7    0.000000\n",
      "8    0.036765\n",
      "9    0.071429\n",
      "10   0.167883\n",
      "11   0.195489\n",
      "12   0.302158\n",
      "13   0.266234\n",
      "14   0.288732\n",
      "15   0.686275\n",
      "16   1.116667\n",
      "17   1.457143\n",
      "18        NaN\n",
      "19        NaN\n",
      "20        NaN\n",
      "21        NaN\n",
      "22        NaN\n",
      "23        NaN\n",
      "24        NaN\n"
     ]
    }
   ],
   "source": [
    "for bb in rica:\n",
    "   print(train[['age','rez_esc']].groupby('age').mean().head(25))"
   ]
  },
  {
   "cell_type": "code",
   "execution_count": 18,
   "metadata": {
    "collapsed": true
   },
   "outputs": [],
   "source": [
    "for cc in rica: cc['rez_esc'].fillna(0, inplace=True)"
   ]
  },
  {
   "cell_type": "code",
   "execution_count": 19,
   "metadata": {
    "collapsed": true
   },
   "outputs": [],
   "source": [
    "def means(feature):\n",
    "    mean_var = train[feature].mean()\n",
    "    train[feature] = train[feature].fillna(mean_var)\n",
    "    \n",
    "means('v2a1')"
   ]
  },
  {
   "cell_type": "code",
   "execution_count": 20,
   "metadata": {
    "collapsed": true
   },
   "outputs": [],
   "source": [
    "means('SQBmeaned')\n",
    "means('meaneduc')"
   ]
  },
  {
   "cell_type": "code",
   "execution_count": 21,
   "metadata": {},
   "outputs": [
    {
     "name": "stdout",
     "output_type": "stream",
     "text": [
      "0\n",
      "17403\n"
     ]
    }
   ],
   "source": [
    "for aa in rica:\n",
    "    own = aa['v2a1'].isna()\n",
    "    print(aa[own].shape[0])\n"
   ]
  },
  {
   "cell_type": "code",
   "execution_count": 22,
   "metadata": {},
   "outputs": [
    {
     "name": "stdout",
     "output_type": "stream",
     "text": [
      "{3921}\n",
      "{14933}\n"
     ]
    }
   ],
   "source": [
    "for aa in rica:\n",
    "    print({aa[own & (aa['tipovivi1'] == 1)].shape[0]})"
   ]
  },
  {
   "cell_type": "code",
   "execution_count": 23,
   "metadata": {},
   "outputs": [
    {
     "name": "stdout",
     "output_type": "stream",
     "text": [
      "{523}\n",
      "{2036}\n"
     ]
    }
   ],
   "source": [
    "for aa in rica:\n",
    "    print({aa[own & (aa['tipovivi5'] == 1)].shape[0]})"
   ]
  },
  {
   "cell_type": "code",
   "execution_count": 24,
   "metadata": {
    "collapsed": true
   },
   "outputs": [],
   "source": [
    "for a in rica:\n",
    "    a['v2a1'].fillna(0, inplace=True)"
   ]
  },
  {
   "cell_type": "code",
   "execution_count": 25,
   "metadata": {},
   "outputs": [
    {
     "data": {
      "text/html": [
       "<div>\n",
       "<style scoped>\n",
       "    .dataframe tbody tr th:only-of-type {\n",
       "        vertical-align: middle;\n",
       "    }\n",
       "\n",
       "    .dataframe tbody tr th {\n",
       "        vertical-align: top;\n",
       "    }\n",
       "\n",
       "    .dataframe thead th {\n",
       "        text-align: right;\n",
       "    }\n",
       "</style>\n",
       "<table border=\"1\" class=\"dataframe\">\n",
       "  <thead>\n",
       "    <tr style=\"text-align: right;\">\n",
       "      <th></th>\n",
       "      <th>v18q</th>\n",
       "    </tr>\n",
       "    <tr>\n",
       "      <th>v18q1</th>\n",
       "      <th></th>\n",
       "    </tr>\n",
       "  </thead>\n",
       "  <tbody>\n",
       "    <tr>\n",
       "      <th>1.0</th>\n",
       "      <td>1586</td>\n",
       "    </tr>\n",
       "    <tr>\n",
       "      <th>2.0</th>\n",
       "      <td>444</td>\n",
       "    </tr>\n",
       "    <tr>\n",
       "      <th>3.0</th>\n",
       "      <td>129</td>\n",
       "    </tr>\n",
       "    <tr>\n",
       "      <th>4.0</th>\n",
       "      <td>37</td>\n",
       "    </tr>\n",
       "    <tr>\n",
       "      <th>5.0</th>\n",
       "      <td>13</td>\n",
       "    </tr>\n",
       "    <tr>\n",
       "      <th>6.0</th>\n",
       "      <td>6</td>\n",
       "    </tr>\n",
       "    <tr>\n",
       "      <th>missing</th>\n",
       "      <td>0</td>\n",
       "    </tr>\n",
       "  </tbody>\n",
       "</table>\n",
       "</div>"
      ],
      "text/plain": [
       "         v18q\n",
       "v18q1        \n",
       "1.0      1586\n",
       "2.0       444\n",
       "3.0       129\n",
       "4.0        37\n",
       "5.0        13\n",
       "6.0         6\n",
       "missing     0"
      ]
     },
     "execution_count": 25,
     "metadata": {},
     "output_type": "execute_result"
    }
   ],
   "source": [
    "train[['v18q1', 'v18q']].fillna('missing').groupby('v18q1').sum()"
   ]
  },
  {
   "cell_type": "code",
   "execution_count": 26,
   "metadata": {
    "collapsed": true
   },
   "outputs": [],
   "source": [
    "for a in rica:\n",
    "    a['v18q1'].fillna(0, inplace=True)"
   ]
  },
  {
   "cell_type": "code",
   "execution_count": 27,
   "metadata": {},
   "outputs": [
    {
     "name": "stdout",
     "output_type": "stream",
     "text": [
      "0\n",
      "23856\n"
     ]
    }
   ],
   "source": [
    "for a in rica: \n",
    "    print(a.isna().sum().sum())"
   ]
  },
  {
   "cell_type": "code",
   "execution_count": 28,
   "metadata": {},
   "outputs": [
    {
     "data": {
      "text/plain": [
       "{'dependency', 'edjefa', 'edjefe'}"
      ]
     },
     "execution_count": 28,
     "metadata": {},
     "output_type": "execute_result"
    }
   ],
   "source": [
    "cat = set()\n",
    "for a in rica: cat.update({var for var in a.drop(columns=['Id', 'idhogar']).columns if a[var].dtypes == \"O\"})\n",
    "cat"
   ]
  },
  {
   "cell_type": "code",
   "execution_count": 29,
   "metadata": {},
   "outputs": [
    {
     "data": {
      "text/plain": [
       "array(['no', '8', '8', ..., '.25', '.25', '.25'], dtype=object)"
      ]
     },
     "execution_count": 29,
     "metadata": {},
     "output_type": "execute_result"
    }
   ],
   "source": [
    "train.dependency.values"
   ]
  },
  {
   "cell_type": "code",
   "execution_count": 30,
   "metadata": {},
   "outputs": [
    {
     "name": "stdout",
     "output_type": "stream",
     "text": [
      "           SQBdependency          \n",
      "                     min mean  max\n",
      "dependency                        \n",
      "no                   0.0  0.0  0.0\n",
      "yes                  1.0  1.0  1.0\n",
      "           SQBdependency          \n",
      "                     min mean  max\n",
      "dependency                        \n",
      "no                   0.0  0.0  0.0\n",
      "yes                  1.0  1.0  1.0\n"
     ]
    }
   ],
   "source": [
    "for a in rica: \n",
    "    print(a[['dependency', 'SQBdependency']][a['dependency'].isin(['yes', 'no'])].groupby('dependency').agg(['min', 'mean', 'max']))"
   ]
  },
  {
   "cell_type": "code",
   "execution_count": 31,
   "metadata": {},
   "outputs": [],
   "source": [
    "for a in rica:\n",
    "    a.loc[a['dependency'] == 'yes', 'dependency'] = 1\n",
    "    a.loc[a['dependency'] == 'no', 'dependency'] = 0\n",
    "    a['dependency'] = a['dependency'].astype('float')"
   ]
  },
  {
   "cell_type": "code",
   "execution_count": 32,
   "metadata": {},
   "outputs": [
    {
     "data": {
      "text/plain": [
       "array(['no', 'no', '11', ..., 'no', 'no', 'no'], dtype=object)"
      ]
     },
     "execution_count": 32,
     "metadata": {},
     "output_type": "execute_result"
    }
   ],
   "source": [
    "train.edjefa.values"
   ]
  },
  {
   "cell_type": "code",
   "execution_count": 33,
   "metadata": {},
   "outputs": [
    {
     "data": {
      "text/plain": [
       "array(['10', '12', 'no', ..., '9', '9', '9'], dtype=object)"
      ]
     },
     "execution_count": 33,
     "metadata": {},
     "output_type": "execute_result"
    }
   ],
   "source": [
    "train.edjefe.values"
   ]
  },
  {
   "cell_type": "code",
   "execution_count": 34,
   "metadata": {},
   "outputs": [
    {
     "name": "stdout",
     "output_type": "stream",
     "text": [
      "      idhogar  parentesco1  male  escolari edjefe edjefa\n",
      "0   21eb7fcc1            1     1        10     10     no\n",
      "1   0e5d7a658            1     1        12     12     no\n",
      "2   2c7317ea8            1     0        11     no     11\n",
      "5   2b58d945f            1     1        11     11     no\n",
      "8   d6dae86b7            1     1         9      9     no\n",
      "12  bb2094100            1     0        11     no     11\n",
      "13  c51f9c774            1     0         4     no      4\n",
      "18  6893e65ca            1     0        10     no     10\n",
      "20  d29058053            1     1        15     15     no\n",
      "21  ec0e8edce            1     1         4      4     no\n",
      "      idhogar  parentesco1  male  escolari edjefe edjefa\n",
      "2   72958b30c            1     0        17     no     17\n",
      "3   5b598fbc9            1     1        16     16     no\n",
      "4   1e2fc704e            1     0        11     no     11\n",
      "6   8ee7365a8            1     0        11     no     11\n",
      "8   ff69a6fc8            1     0        14     no     14\n",
      "9   b61e2bb92            1     0        10     no     10\n",
      "12  a499b6c30            1     0        15     no     15\n",
      "13  f751b9e44            1     1        10     10     no\n",
      "21  ba1262b51            1     1         6      6     no\n",
      "23  d5a0a19d8            1     0         9     no      9\n"
     ]
    }
   ],
   "source": [
    "#edjefe and edjefa are based on the interaction of escolari (years of education), head of household and gender\n",
    "select = ['idhogar', 'parentesco1', 'male', 'escolari', 'edjefe', 'edjefa']\n",
    "for a in rica: print(a[select][a['parentesco1'] ==1].head(10))"
   ]
  },
  {
   "cell_type": "markdown",
   "metadata": {},
   "source": [
    "if the household head is a male then edjefa is 'no' and if the household head is a female then edjefe is 'no'"
   ]
  },
  {
   "cell_type": "code",
   "execution_count": 35,
   "metadata": {},
   "outputs": [
    {
     "name": "stdout",
     "output_type": "stream",
     "text": [
      "      edjefe\n",
      "male        \n",
      "0       1163\n",
      "1         74\n",
      "      edjefa\n",
      "male        \n",
      "0         61\n",
      "1       1810\n",
      "      edjefe\n",
      "male        \n",
      "0       2753\n",
      "1        237\n",
      "      edjefa\n",
      "male        \n",
      "0        120\n",
      "1       4581\n"
     ]
    }
   ],
   "source": [
    "#We still need to check if that encompasses all no values or if there are more instances where no is the value \n",
    "for a in rica: \n",
    "    for b in ['edjefe', 'edjefa']: print(a[[b, 'male']][(a[b] == 'no') & (a['parentesco1'] == 1)].groupby('male').count())"
   ]
  },
  {
   "cell_type": "code",
   "execution_count": 36,
   "metadata": {},
   "outputs": [
    {
     "name": "stdout",
     "output_type": "stream",
     "text": [
      "               escolari\n",
      "edjefe edjefa          \n",
      "no     no             0\n",
      "               escolari\n",
      "edjefe edjefa          \n",
      "no     no             0\n"
     ]
    }
   ],
   "source": [
    "for a in rica:\n",
    "    print(a[['escolari', 'edjefe', 'edjefa']][(a['parentesco1'] == 1) &\n",
    "                                        (((a['edjefe'] == 'no') & (a['male'] == 1)) \n",
    "                                         | ((a['edjefa'] == 'no') & (a['male'] == 0)))\n",
    "                                       ].groupby(['edjefe', 'edjefa']).mean())"
   ]
  },
  {
   "cell_type": "markdown",
   "metadata": {},
   "source": [
    "The above indicates that there are instances where the household head is male yet edjefe is no; furthermore, there are instances where the household head is female yet edjefa is no. In these cases, it appears that the household head does not have any education at all."
   ]
  },
  {
   "cell_type": "code",
   "execution_count": 37,
   "metadata": {},
   "outputs": [
    {
     "name": "stdout",
     "output_type": "stream",
     "text": [
      "       idhogar  parentesco1  male  escolari edjefe edjefa\n",
      "87   2b1a06ddc            0     1        13     no     no\n",
      "121  d9e9b591a            0     0        14     no     no\n",
      "122  d9e9b591a            0     1         8     no     no\n",
      "123  d9e9b591a            0     0         9     no     no\n",
      "125  d9e9b591a            0     0        14     no     no\n",
      "166  71bec40bc            0     0         0     no     no\n",
      "167  71bec40bc            0     1         1     no     no\n",
      "168  71bec40bc            0     0         5     no     no\n",
      "169  71bec40bc            0     0         6     no     no\n",
      "170  71bec40bc            0     0         0     no     no\n",
      "172  71bec40bc            0     1         7     no     no\n",
      "417  fd22b4607            0     0        11     no     no\n",
      "418  fd22b4607            0     0         0     no     no\n",
      "419  fd22b4607            0     0         7     no     no\n",
      "499  7bf86807a            0     1         0     no     no\n",
      "       idhogar  parentesco1  male  escolari edjefe edjefa\n",
      "381  2d8da9345            0     0         9     no     no\n",
      "383  2d8da9345            0     0         7     no     no\n",
      "384  2d8da9345            0     0         7     no     no\n",
      "419  decc8d8a0            0     1        11     no     no\n",
      "439  b39a96e5e            0     0         3     no     no\n",
      "459  c4fec626a            0     1         3     no     no\n",
      "618  4d6cba397            0     1         6     no     no\n",
      "619  4d6cba397            0     0         0     no     no\n",
      "620  4d6cba397            0     1        11     no     no\n",
      "621  4d6cba397            0     0         0     no     no\n",
      "622  4d6cba397            0     0        11     no     no\n",
      "624  4d6cba397            0     0         9     no     no\n",
      "625  4d6cba397            0     1         6     no     no\n",
      "660  7b6016418            0     1         1     no     no\n",
      "662  7b6016418            0     1         7     no     no\n"
     ]
    }
   ],
   "source": [
    "for a in rica: print(a[select][(a['edjefa'] == 'no') & (a['edjefe'] == 'no') & (a['parentesco1'] == 0)].head(15))"
   ]
  },
  {
   "cell_type": "markdown",
   "metadata": {},
   "source": [
    "It is evident that there are cases where there is no head of household, shown by parentesco = 0, edjefe = 'no' and edjefa = 'no'. This is a tricky problem. I was reading on the discussion boards and they suggested making a new variable that includes the education of the household head regardless of if they are a male or female. This new variable will be 'edhoh' education head of household."
   ]
  },
  {
   "cell_type": "code",
   "execution_count": 38,
   "metadata": {},
   "outputs": [],
   "source": [
    "for a in rica:\n",
    "    di = dict(a[['idhogar', 'escolari']][a['parentesco1'] == 1].values)\n",
    "    par = a[['idhogar', 'parentesco1']].groupby('idhogar').agg('max')\n",
    "    di.update(dict(par[par['parentesco1'] != 1]['parentesco1']))\n",
    "    a['edhoh'] = a['idhogar'].map(lambda x: di[x])\n",
    "    a.drop(columns=['edjefe', 'edjefa'], inplace=True)"
   ]
  },
  {
   "cell_type": "code",
   "execution_count": 39,
   "metadata": {},
   "outputs": [
    {
     "name": "stdout",
     "output_type": "stream",
     "text": [
      "[]\n",
      "[]\n"
     ]
    }
   ],
   "source": [
    "#Check to see if we still have any categorical features\n",
    "for a in rica: \n",
    "    print([var for var in a.drop(columns=['Id', 'idhogar']).columns if a[var].dtypes == \"O\"])"
   ]
  },
  {
   "cell_type": "code",
   "execution_count": 40,
   "metadata": {},
   "outputs": [
    {
     "data": {
      "text/plain": [
       "<Figure size 1440x1152 with 0 Axes>"
      ]
     },
     "metadata": {},
     "output_type": "display_data"
    },
    {
     "data": {
      "image/png": "[encoded data removed]",
      "text/plain": [
       "<Figure size 864x576 with 2 Axes>"
      ]
     },
     "metadata": {},
     "output_type": "display_data"
    }
   ],
   "source": [
    "plt.figure(figsize = (20, 16))\n",
    "plt.style.use('fivethirtyeight')\n",
    "\n",
    "# Color mapping\n",
    "colors = OrderedDict({1: 'red', 2: 'orange', 3: 'blue', 4: 'green'})\n",
    "poverty_mapping = OrderedDict({1: 'extreme', 2: 'moderate', 3: 'vulnerable', 4: 'non vulnerable'})\n",
    "plt.figure(figsize = (12, 8))\n",
    "\n",
    "# Iterate through the float columns\n",
    "for i, col in enumerate(['dependency', 'edhoh']):\n",
    "    ax = plt.subplot(3, 1, i + 1)\n",
    "    # Iterate through the poverty levels\n",
    "    for poverty_level, color in colors.items():\n",
    "        # Plot each poverty level as a separate line\n",
    "        sns.kdeplot(train.loc[train['Target'] == poverty_level, col].dropna(), \n",
    "                    ax = ax, color = color, label = poverty_mapping[poverty_level])\n",
    "        \n",
    "    plt.title(f'{col.capitalize()} Distribution'); plt.xlabel(f'{col}'); plt.ylabel('Density')\n",
    "\n",
    "plt.subplots_adjust(top = 2)"
   ]
  },
  {
   "cell_type": "markdown",
   "metadata": {},
   "source": [
    "We have now dealt with all nan values and categorical features"
   ]
  },
  {
   "cell_type": "markdown",
   "metadata": {},
   "source": [
    "## Feature Engineering"
   ]
  },
  {
   "cell_type": "code",
   "execution_count": 41,
   "metadata": {},
   "outputs": [
    {
     "data": {
      "text/plain": [
       "0       0\n",
       "1       0\n",
       "2       0\n",
       "3       1\n",
       "4       1\n",
       "5       1\n",
       "6       1\n",
       "7       0\n",
       "8       0\n",
       "9       0\n",
       "10      0\n",
       "11      1\n",
       "12      1\n",
       "13      1\n",
       "14      1\n",
       "15      0\n",
       "16      0\n",
       "17      0\n",
       "18      0\n",
       "19      1\n",
       "20      1\n",
       "21      0\n",
       "22      0\n",
       "23      1\n",
       "24      1\n",
       "25      1\n",
       "26      0\n",
       "27      1\n",
       "28      1\n",
       "29      1\n",
       "       ..\n",
       "9527    1\n",
       "9528    1\n",
       "9529    1\n",
       "9530    1\n",
       "9531    1\n",
       "9532    1\n",
       "9533    1\n",
       "9534    0\n",
       "9535    0\n",
       "9536    0\n",
       "9537    0\n",
       "9538    0\n",
       "9539    0\n",
       "9540    0\n",
       "9541    0\n",
       "9542    0\n",
       "9543    0\n",
       "9544    0\n",
       "9545    0\n",
       "9546    0\n",
       "9547    0\n",
       "9548    0\n",
       "9549    0\n",
       "9550    1\n",
       "9551    1\n",
       "9552    0\n",
       "9553    0\n",
       "9554    0\n",
       "9555    0\n",
       "9556    0\n",
       "Name: epared3, Length: 9557, dtype: int64"
      ]
     },
     "execution_count": 41,
     "metadata": {},
     "output_type": "execute_result"
    }
   ],
   "source": [
    "train['quality'] = train['cielorazo'] + (1- train['pisonotiene'])\n",
    "+ (1-train['abastaguano']) + (1- train['noelec']) + (1- train['sanitario1']) + (1-train['energcocinar1']) \n",
    "+ train['epared3']"
   ]
  },
  {
   "cell_type": "code",
   "execution_count": 42,
   "metadata": {},
   "outputs": [
    {
     "data": {
      "text/plain": [
       "Text(0.5, 1.0, 'Quality of Homes')"
      ]
     },
     "execution_count": 42,
     "metadata": {},
     "output_type": "execute_result"
    },
    {
     "data": {
      "image/png": "[encoded data removed]",
      "text/plain": [
       "<Figure size 432x288 with 1 Axes>"
      ]
     },
     "metadata": {},
     "output_type": "display_data"
    }
   ],
   "source": [
    "sns.distplot(train.quality, kde=False) #kde is kernel density estimate. \n",
    "plt.ylabel('Count')\n",
    "plt.title('Quality of Homes')"
   ]
  },
  {
   "cell_type": "code",
   "execution_count": null,
   "metadata": {
    "collapsed": true
   },
   "outputs": [],
   "source": []
  },
  {
   "cell_type": "code",
   "execution_count": null,
   "metadata": {
    "collapsed": true
   },
   "outputs": [],
   "source": []
  },
  {
   "cell_type": "code",
   "execution_count": 43,
   "metadata": {},
   "outputs": [],
   "source": [
    "id_ = ['Id', 'idhogar', 'Target']"
   ]
  },
  {
   "cell_type": "code",
   "execution_count": 44,
   "metadata": {
    "collapsed": true
   },
   "outputs": [],
   "source": [
    "ind_bool = ['v18q', 'dis', 'male', 'female', 'estadocivil1', 'estadocivil2', 'estadocivil3', \n",
    "            'estadocivil4', 'estadocivil5', 'estadocivil6', 'estadocivil7', \n",
    "            'parentesco1', 'parentesco2',  'parentesco3', 'parentesco4', 'parentesco5', \n",
    "            'parentesco6', 'parentesco7', 'parentesco8',  'parentesco9', 'parentesco10', \n",
    "            'parentesco11', 'parentesco12', 'instlevel1', 'instlevel2', 'instlevel3', \n",
    "            'instlevel4', 'instlevel5', 'instlevel6', 'instlevel7', 'instlevel8', \n",
    "            'instlevel9', 'mobilephone']\n",
    "\n",
    "ind_ordered = ['rez_esc', 'escolari', 'age']\n",
    "\n",
    "sqr_ = ['SQBescolari', 'SQBage', 'SQBhogar_total', 'SQBedjefe', \n",
    "        'SQBhogar_nin', 'SQBovercrowding', 'SQBdependency', 'SQBmeaned', 'agesq']"
   ]
  }
 ],
 "metadata": {
  "kernelspec": {
   "display_name": "Python 3",
   "language": "python",
   "name": "python3"
  },
  "language_info": {
   "codemirror_mode": {
    "name": "ipython",
    "version": 3
   },
   "file_extension": ".py",
   "mimetype": "text/x-python",
   "name": "python",
   "nbconvert_exporter": "python",
   "pygments_lexer": "ipython3",
   "version": "3.6.1"
  }
 },
 "nbformat": 4,
 "nbformat_minor": 2
}
